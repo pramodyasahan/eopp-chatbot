{
 "cells": [
  {
   "metadata": {
    "ExecuteTime": {
     "end_time": "2025-02-17T14:46:52.635190Z",
     "start_time": "2025-02-17T14:46:52.627743Z"
    }
   },
   "cell_type": "code",
   "source": [
    "def convert_btec_grade(grade):\n",
    "    \"\"\"\n",
    "    Converts a BTEC grade string into a numeric value for comparison.\n",
    "    This function tokenizes the input string and assigns each token a weight:\n",
    "        D* -> 4\n",
    "        D  -> 3\n",
    "        M  -> 2\n",
    "        P  -> 1\n",
    "    The final score is the sum of these weights.\n",
    "\n",
    "    For example:\n",
    "      - \"D*D*D*\" => 4 + 4 + 4 = 12\n",
    "      - \"DDD\"    => 3 + 3 + 3 = 9\n",
    "      - \"D*M P\"  => 4 + 2 + 1 = 7  (if tokens are correctly extracted)\n",
    "    \"\"\"\n",
    "    if not grade or not isinstance(grade, str):\n",
    "        return None\n",
    "\n",
    "    grade = grade.strip().upper()\n",
    "    token_weights = {\n",
    "        \"D*\": 4,\n",
    "        \"D\": 3,\n",
    "        \"M\": 2,\n",
    "        \"P\": 1,\n",
    "    }\n",
    "\n",
    "    # Use regex to extract tokens; note that 'D*' should be matched before 'D'\n",
    "    pattern = r'(D\\*|D|M|P)'\n",
    "    tokens = re.findall(pattern, grade)\n",
    "    if not tokens:\n",
    "        return None\n",
    "\n",
    "    total_weight = sum(token_weights.get(token, 0) for token in tokens)\n",
    "    return total_weight\n"
   ],
   "id": "b7d47effa166d740",
   "outputs": [],
   "execution_count": 68
  },
  {
   "metadata": {
    "ExecuteTime": {
     "end_time": "2025-02-17T14:46:53.001705Z",
     "start_time": "2025-02-17T14:46:52.998837Z"
    }
   },
   "cell_type": "code",
   "source": [
    "def extract_gcse_grades(text):\n",
    "    \"\"\"\n",
    "    Extracts numeric GCSE grades from a text description.\n",
    "    For example, from \"grade 5, grade 6, grade 7\" it will extract [5, 6, 7].\n",
    "    If no valid grade is found, returns an empty list.\n",
    "    \"\"\"\n",
    "    if not text or not isinstance(text, str):\n",
    "        return []\n",
    "    # This regex looks for a digit (or digits) that come after the word \"grade\" (optional spaces).\n",
    "    matches = re.findall(r'grade\\s*(\\d+)', text, flags=re.IGNORECASE)\n",
    "    return [int(match) for match in matches]"
   ],
   "id": "c7d206019deccf69",
   "outputs": [],
   "execution_count": 69
  },
  {
   "metadata": {
    "ExecuteTime": {
     "end_time": "2025-02-17T14:46:53.739092Z",
     "start_time": "2025-02-17T14:46:53.734868Z"
    }
   },
   "cell_type": "code",
   "source": [
    "def convert_bachelors_degree_from_gpa(gpa):\n",
    "    \"\"\"\n",
    "    Converts a GPA value into a bachelor's degree classification string.\n",
    "\n",
    "    Parameters:\n",
    "        gpa (float or str): The GPA value. It will be converted to float.\n",
    "\n",
    "    Returns:\n",
    "        str: A classification such as \"first class\", \"upper second class\", etc.\n",
    "             If the GPA does not meet any threshold, returns None.\n",
    "    \"\"\"\n",
    "    try:\n",
    "        gpa = float(gpa)\n",
    "    except (TypeError, ValueError):\n",
    "        return None\n",
    "\n",
    "    if gpa >= 3.7:\n",
    "        return \"first class\"\n",
    "    elif gpa >= 3.3:\n",
    "        return \"upper second class\"\n",
    "    elif gpa >= 3.0:\n",
    "        return \"lower second class\"\n",
    "    elif gpa >= 2.5:\n",
    "        return \"third class\"\n",
    "    else:\n",
    "        return None"
   ],
   "id": "77e5e81df8b82dd5",
   "outputs": [],
   "execution_count": 70
  },
  {
   "cell_type": "code",
   "id": "initial_id",
   "metadata": {
    "collapsed": true,
    "ExecuteTime": {
     "end_time": "2025-02-17T13:42:19.331658Z",
     "start_time": "2025-02-17T13:42:19.320274Z"
    }
   },
   "source": [
    "import pandas as pd\n",
    "import re\n",
    "\n",
    "\n",
    "def extract_numeric(value):\n",
    "    \"\"\"Extracts the first numeric value from a string.\"\"\"\n",
    "    if pd.isna(value):\n",
    "        return None\n",
    "    match = re.search(r'\\d+', str(value))\n",
    "    return int(match.group()) if match else None\n",
    "\n",
    "\n",
    "def convert_a_level_to_numeric(grade):\n",
    "    \"\"\"\n",
    "    Converts an A-Level grade string (e.g., \"A*A*A*\", \"A*A*A\", \"AAB\") into a numeric value.\n",
    "    This function breaks down the grade into individual components, assigns a numeric value to each,\n",
    "    and sums them up.\n",
    "    \"\"\"\n",
    "    if not grade or not isinstance(grade, str):\n",
    "        return None\n",
    "\n",
    "    # Define the numeric values for each individual grade component.\n",
    "    grade_values = {\n",
    "        \"A*\": 56,\n",
    "        \"A\": 48,\n",
    "        \"B\": 40,\n",
    "        \"C\": 32,\n",
    "        \"D\": 24,\n",
    "        \"E\": 16\n",
    "    }\n",
    "\n",
    "    # Use regex to find all grade components.\n",
    "    # The pattern looks for \"A*\" first (since it has a special character), then A, B, etc.\n",
    "    pattern = r'(A\\*|A|B|C|D|E)'\n",
    "    matches = re.findall(pattern, grade.upper())\n",
    "\n",
    "    if not matches:\n",
    "        return None\n",
    "\n",
    "    # Sum the numeric values for each grade component.\n",
    "    numeric_score = sum(grade_values.get(match, 0) for match in matches)\n",
    "    return numeric_score\n",
    "\n",
    "\n",
    "def initial_filtering(file_path, filters):\n",
    "    \"\"\"\n",
    "    Performs an initial filtering of the courses based on key parameters.\n",
    "    Supports:\n",
    "    - Finding universities based on a specific degree program.\n",
    "    - Standard filtering using university name, field type, location, and degree program type.\n",
    "    - Handles cases where a country name (e.g., \"UK\") is provided instead of a specific city.\n",
    "    - Additional filtering for IELTS overall score and IELTS individual band scores.\n",
    "    \"\"\"\n",
    "\n",
    "    # Load the Excel file\n",
    "    df = pd.read_excel(file_path, sheet_name=\"Sheet1\")\n",
    "\n",
    "    # Normalize dataset column values (convert to lowercase for case-insensitive matching)\n",
    "    column_list = [\"university_name\", \"field_name\", \"location\", \"degree_program\", \"course_or_degree_name\", \"country\",\n",
    "                   \"ielts\", \"ielts_individual_component\", \"ucas_tariff\"]\n",
    "    for col in column_list:\n",
    "        if col in df.columns:\n",
    "            df[col] = df[col].astype(str).str.strip().str.lower()\n",
    "\n",
    "    print(\"Initial course count:\", df.shape[0])\n",
    "\n",
    "    # Alias check: If \"course name\" is provided, map it to \"course_or_degree_name\"\n",
    "    if \"course name\" in filters:\n",
    "        filters[\"course_or_degree_name\"] = filters.pop(\"course name\")\n",
    "\n",
    "    # Check if the user query is only asking for universities offering a specific course\n",
    "    if filters.get(\"course_or_degree_name\") and not any(\n",
    "            key in filters for key in [\"university name\", \"field type\", \"location\", \"degree program type\"]\n",
    "    ):\n",
    "        course_filter = filters[\"course_or_degree_name\"].strip().lower()\n",
    "        df_filtered = df[df[\"course_or_degree_name\"].notna() & df[\"course_or_degree_name\"].str.contains(\n",
    "            course_filter, case=False, na=False, regex=False)]\n",
    "        print(\"After filtering by course name:\", df_filtered.shape[0])\n",
    "\n",
    "        # Return only unique universities that offer this course\n",
    "        if not df_filtered.empty:\n",
    "            return df_filtered[[\"university_name\"]].drop_duplicates()\n",
    "\n",
    "        return \"No universities found for this course.\"\n",
    "\n",
    "    # Apply standard filtering (when multiple filters are used)\n",
    "    if filters.get(\"university_name\"):\n",
    "        df = df[df[\"university_name\"] == filters[\"university_name\"].strip().lower()]\n",
    "        print(\"After university name filter:\", df.shape[0])\n",
    "\n",
    "    if filters.get(\"field_type\"):\n",
    "        df = df[df[\"field_name\"] == filters[\"field_type\"].strip().lower()]\n",
    "        print(\"After field type filter:\", df.shape[0])\n",
    "\n",
    "    if filters.get(\"location\"):\n",
    "        location_filter = filters[\"location\"].strip().lower()\n",
    "\n",
    "        # Skip location filtering if the user provided \"UK\"\n",
    "        if location_filter != \"uk\":\n",
    "            df = df[df[\"location\"] == location_filter]\n",
    "            print(\"After location filter:\", df.shape[0])\n",
    "\n",
    "    if filters.get(\"degree program type\"):\n",
    "        df = df[df[\"degree_program\"] == filters[\"degree program type\"].strip().lower()]\n",
    "        print(\"After degree program type filter:\", df.shape[0])\n",
    "\n",
    "    # Apply IELTS filtering\n",
    "    if \"ielts\" in filters:\n",
    "        user_ielts = float(filters[\"ielts\"])\n",
    "        df[\"ielts\"] = pd.to_numeric(df[\"ielts\"], errors='coerce')\n",
    "        df = df[(df[\"ielts\"].isna()) | (df[\"ielts\"] <= user_ielts)]\n",
    "        print(\"After IELTS filter:\", df.shape[0])\n",
    "\n",
    "    # Apply IELTS Individual Component filtering\n",
    "    if \"ielts_individual_component\" in filters:\n",
    "        user_ielts_component = float(filters[\"ielts_individual_component\"])\n",
    "        df[\"ielts_individual_component\"] = pd.to_numeric(df[\"ielts_individual_component\"], errors='coerce')\n",
    "        df = df[(df[\"ielts_individual_component\"].isna()) | (df[\"ielts_individual_component\"] <= user_ielts_component)]\n",
    "        print(\"After IELTS Individual Component filter:\", df.shape[0])\n",
    "\n",
    "    # Apply UCAS Tariff filtering\n",
    "    if \"ucas_tariff\" in filters:\n",
    "        user_ucas = int(filters[\"ucas_tariff\"])\n",
    "        df[\"ucas_tariff_numeric\"] = df[\"ucas_tariff\"].apply(extract_numeric)\n",
    "        df = df[(df[\"ucas_tariff_numeric\"].isna()) | (df[\"ucas_tariff_numeric\"] <= user_ucas)]\n",
    "        print(\"After UCAS Tariff filter:\", df.shape[0])\n",
    "\n",
    "    if \"btec_diploma\" in filters:\n",
    "        user_btec = convert_btec_grade(filters[\"btec_diploma\"].upper())\n",
    "        df[\"btec_diploma_numeric\"] = df[\"btec_diploma\"].apply(lambda x: convert_btec_grade(str(x).upper()))\n",
    "        df = df[(df[\"btec_diploma_numeric\"].isna()) | (df[\"btec_diploma_numeric\"] <= user_btec)]\n",
    "        print(\"After BTEC Diploma filter:\", df.shape[0])\n",
    "\n",
    "    # Apply BTEC Extended Diploma Filtering\n",
    "    if \"btec_extended_diploma\" in filters:\n",
    "        user_extended_btec = convert_btec_grade(filters[\"btec_extended_diploma\"].upper())\n",
    "        df[\"btec_extended_diploma_numeric\"] = df[\"btec_extended_diploma\"].apply(\n",
    "            lambda x: convert_btec_grade(str(x).upper()))\n",
    "        df = df[\n",
    "            (df[\"btec_extended_diploma_numeric\"].isna()) | (df[\"btec_extended_diploma_numeric\"] <= user_extended_btec)]\n",
    "        print(\"After BTEC Extended Diploma filter:\", df.shape[0])\n",
    "\n",
    "    # Apply GCSE Overall Filtering\n",
    "    if \"gcse_overall\" in filters:\n",
    "        user_gcse_grades = extract_gcse_grades(filters[\"gcse_overall\"])\n",
    "        df[\"gcse_grades\"] = df[\"gcse_overall\"].apply(extract_gcse_grades)\n",
    "        df = df[df[\"gcse_grades\"].apply(lambda grades: all(g >= 4 for g in grades))]\n",
    "        print(\"After GCSE Overall filter:\", df.shape[0])\n",
    "\n",
    "    # Apply Mandatory Subject of GCSE Filtering\n",
    "    if \"mandatory_subject_of_gcse\" in filters:\n",
    "        required_subjects = set(filters[\"mandatory_subject_of_gcse\"].lower().split(\", \"))\n",
    "        df = df[df[\"mandatory_subject_of_gcse\"].apply(\n",
    "            lambda x: required_subjects.issubset(set(str(x).lower().split(\", \"))))]\n",
    "        print(\"After Mandatory GCSE Subject filter:\", df.shape[0])\n",
    "\n",
    "    # Apply A-Levels filtering using the improved conversion function\n",
    "    if \"a_levels_overall\" in filters:\n",
    "        # Convert the user's A-Level grade to its numeric value\n",
    "        user_grade = filters[\"a_levels_overall\"]\n",
    "        user_a_level = convert_a_level_to_numeric(user_grade.upper())\n",
    "\n",
    "        if user_a_level is not None:\n",
    "            # Ensure that each A-Level value in the DataFrame is treated as a string before conversion.\n",
    "            df[\"a_levels_numeric\"] = df[\"a_levels_overall\"].astype(str).apply(\n",
    "                lambda x: convert_a_level_to_numeric(x.upper()))\n",
    "            df = df[(df[\"a_levels_numeric\"].isna()) | (df[\"a_levels_numeric\"] <= user_a_level)]\n",
    "            print(\"After A-Levels filter:\", df.shape[0])\n",
    "        else:\n",
    "            print(\"Invalid user A-Level grade provided:\", user_grade)\n",
    "\n",
    "        if \"btec_diploma\" in filters:\n",
    "            user_btec = convert_btec_grade(filters[\"btec_diploma\"].upper())\n",
    "        df[\"btec_diploma_numeric\"] = df[\"btec_diploma\"].apply(lambda x: convert_btec_grade(str(x).upper()))\n",
    "        df = df[(df[\"btec_diploma_numeric\"].isna()) | (df[\"btec_diploma_numeric\"] <= user_btec)]\n",
    "        print(\"After BTEC Diploma filter:\", df.shape[0])\n",
    "\n",
    "    if \"btec_extended_diploma\" in filters:\n",
    "        user_extended_btec = convert_btec_grade(filters[\"btec_extended_diploma\"].upper())\n",
    "        df[\"btec_extended_diploma_numeric\"] = df[\"btec_extended_diploma\"].apply(\n",
    "            lambda x: convert_btec_grade(str(x).upper()))\n",
    "        df = df[\n",
    "            (df[\"btec_extended_diploma_numeric\"].isna()) | (df[\"btec_extended_diploma_numeric\"] <= user_extended_btec)]\n",
    "        print(\"After BTEC Extended Diploma filter:\", df.shape[0])\n",
    "\n",
    "    if \"gcse_overall\" in filters:\n",
    "        user_gcse_grades = extract_gcse_grades(filters[\"gcse_overall\"])\n",
    "        # For each course, extract the list of GCSE grades\n",
    "        df[\"gcse_grades\"] = df[\"gcse_overall\"].apply(extract_gcse_grades)\n",
    "        # Example logic: only keep courses where every GCSE grade is at least 4\n",
    "        df = df[df[\"gcse_grades\"].apply(lambda grades: all(g >= 4 for g in grades))]\n",
    "        print(\"After GCSE Overall filter:\", df.shape[0])\n",
    "\n",
    "    if \"mandatory_subject_of_gcse\" in filters:\n",
    "        required_subjects = set(filters[\"mandatory_subject_of_gcse\"].lower().split(\", \"))\n",
    "        df = df[df[\"mandatory_subject_of_gcse\"].apply(\n",
    "            lambda x: required_subjects.issubset(set(str(x).lower().split(\", \")))\n",
    "        )]\n",
    "        print(\"After Mandatory GCSE Subject filter:\", df.shape[0])\n",
    "\n",
    "    # Return results\n",
    "    if not df.empty and \"course_or_degree_name\" in df.columns:\n",
    "        return df[[\"university_name\", \"course_or_degree_name\"]]\n",
    "    else:\n",
    "        return \"No matching results found.\"\n"
   ],
   "outputs": [],
   "execution_count": 29
  },
  {
   "metadata": {
    "ExecuteTime": {
     "end_time": "2025-02-17T13:43:32.036940Z",
     "start_time": "2025-02-17T13:43:32.034988Z"
    }
   },
   "cell_type": "code",
   "source": "file_path = \"../data/test_data.xlsx\"",
   "id": "237dde1647f7bd16",
   "outputs": [],
   "execution_count": 35
  },
  {
   "metadata": {
    "ExecuteTime": {
     "end_time": "2025-02-17T13:50:01.261733Z",
     "start_time": "2025-02-17T13:50:01.259520Z"
    }
   },
   "cell_type": "code",
   "source": [
    "filters = {\n",
    "    \"a_levels_overall\": \"C\"\n",
    "}"
   ],
   "id": "49b8efc6ae66e4ae",
   "outputs": [],
   "execution_count": 66
  },
  {
   "metadata": {
    "ExecuteTime": {
     "end_time": "2025-02-17T13:50:01.696975Z",
     "start_time": "2025-02-17T13:50:01.668880Z"
    }
   },
   "cell_type": "code",
   "source": "initial_filtering(file_path, filters)",
   "id": "d8e3e0c9a217a090",
   "outputs": [
    {
     "name": "stdout",
     "output_type": "stream",
     "text": [
      "Initial course count: 50\n",
      "After A-Levels filter: 0\n"
     ]
    },
    {
     "data": {
      "text/plain": [
       "'No matching results found.'"
      ]
     },
     "execution_count": 67,
     "metadata": {},
     "output_type": "execute_result"
    }
   ],
   "execution_count": 67
  },
  {
   "metadata": {
    "ExecuteTime": {
     "end_time": "2025-02-17T13:48:59.948805Z",
     "start_time": "2025-02-17T13:48:59.946247Z"
    }
   },
   "cell_type": "code",
   "source": "convert_a_level_to_numeric(\"CCE\")",
   "id": "3d98f21512d6caba",
   "outputs": [
    {
     "data": {
      "text/plain": [
       "80"
      ]
     },
     "execution_count": 59,
     "metadata": {},
     "output_type": "execute_result"
    }
   ],
   "execution_count": 59
  },
  {
   "metadata": {},
   "cell_type": "code",
   "outputs": [],
   "execution_count": null,
   "source": "",
   "id": "36c8d4934bcb4639"
  }
 ],
 "metadata": {
  "kernelspec": {
   "display_name": "Python 3",
   "language": "python",
   "name": "python3"
  },
  "language_info": {
   "codemirror_mode": {
    "name": "ipython",
    "version": 2
   },
   "file_extension": ".py",
   "mimetype": "text/x-python",
   "name": "python",
   "nbconvert_exporter": "python",
   "pygments_lexer": "ipython2",
   "version": "2.7.6"
  }
 },
 "nbformat": 4,
 "nbformat_minor": 5
}
